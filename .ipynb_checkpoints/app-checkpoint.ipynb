{
 "cells": [
  {
   "cell_type": "code",
   "execution_count": 1,
   "metadata": {
    "ExecuteTime": {
     "end_time": "2021-01-21T22:33:54.434794Z",
     "start_time": "2021-01-21T22:33:53.033936Z"
    }
   },
   "outputs": [],
   "source": [
    "# Import required libraries\n",
    "import os\n",
    "from random import randint\n",
    "\n",
    "import flask\n",
    "import dash\n",
    "import dash_core_components as dcc\n",
    "import dash_html_components as html\n",
    "import dash_bootstrap_components as dbc\n",
    "from dash.dependencies import Input, Output, State\n",
    "\n",
    "import plotly.express as px\n",
    "import plotly.graph_objects as go\n",
    "import plotly.io as pio\n",
    "\n",
    "import pandas as pd\n",
    "import numpy as np\n",
    "\n",
    "from jupyter_dash import JupyterDash\n",
    "import ipywidgets\n",
    "\n",
    "from joblib import load\n",
    "\n",
    "import pickle\n",
    "import regex as re\n",
    "import string\n",
    "from nltk.corpus import stopwords\n",
    "\n",
    "\n",
    "from sklearn.feature_extraction.text import TfidfVectorizer\n",
    "from sklearn.pipeline import Pipeline\n",
    "from sklearn.model_selection import train_test_split"
   ]
  },
  {
   "cell_type": "code",
   "execution_count": 2,
   "metadata": {
    "ExecuteTime": {
     "end_time": "2021-01-21T22:33:55.126933Z",
     "start_time": "2021-01-21T22:33:54.436592Z"
    },
    "scrolled": false
   },
   "outputs": [
    {
     "data": {
      "text/html": [
       "\n",
       "        <iframe\n",
       "            width=\"100%\"\n",
       "            height=\"650\"\n",
       "            src=\"http://localhost:8050/\"\n",
       "            frameborder=\"0\"\n",
       "            allowfullscreen\n",
       "        ></iframe>\n",
       "        "
      ],
      "text/plain": [
       "<IPython.lib.display.IFrame at 0x7fcee3bd2310>"
      ]
     },
     "metadata": {},
     "output_type": "display_data"
    }
   ],
   "source": [
    "# server = flask.Flask(__name__)\n",
    "# server.secret_key = os.environ.get('secret_key', str(randint(0, 1000000)))\n",
    "\n",
    "external_stylesheets=['https://codepen.io/chriddyp/pen/bWLwgP.css']\n",
    "\n",
    "app = JupyterDash(__name__)\n",
    "\n",
    "# Dash code here\n",
    "\n",
    "data = pd.read_csv('./assets/cities_df', index_col=0)\n",
    "X = data['Attraction']\n",
    "y = data['City']\n",
    "X_train, X_test, y_train, y_test = train_test_split(X, y, test_size=.2, random_state=123)\n",
    "\n",
    "def preprocess_df(df, column, preview=True):\n",
    "    \"\"\"\n",
    "    Input df with raw text attractions.\n",
    "    Return df with preprocessed text.\n",
    "    \"\"\"\n",
    "    \n",
    "    df[column] = df['Attraction'].apply(lambda x: x.lower())\n",
    "    df[column] = df[column].apply(lambda x: re.sub('[%s]' % re.escape(string.punctuation), '', x))\n",
    "    df[column] = df[column].apply(lambda x: re.sub('\\w*\\d\\w*','', x))\n",
    "    \n",
    "    return df\n",
    "\n",
    "X_train_cleaned = preprocess_df(pd.DataFrame(X_train, columns=['Attraction']),\n",
    "                                'cleaned')\n",
    "\n",
    "\n",
    "new_stopwords = stopwords.words('english') + list(string.punctuation)\n",
    "new_stopwords += ['bali', 'barcelona', 'crete', 'dubai', 'istanbul', 'london',\n",
    "                  'majorca', 'phuket', 'paris', 'rome', 'sicily', 'mallorca',\n",
    "                  'goa', 'private', 'airport', 'transfer']\n",
    "\n",
    "vectorizer = TfidfVectorizer(analyzer='word',\n",
    "                             stop_words=new_stopwords,\n",
    "                             decode_error='ignore')\n",
    "                                \n",
    "X_train_tfidf = vectorizer.fit_transform(X_train_cleaned['cleaned'])\n",
    "    \n",
    "model = load('./assets/non_lemmatized_model')\n",
    "\n",
    "def preprocess_text(text):\n",
    "    \"\"\"\n",
    "    Input raw text.\n",
    "    Return preprocessed text.\n",
    "    \"\"\"\n",
    "    \n",
    "    preprocessed = text.lower()\n",
    "    preprocessed = re.sub('[%s]' % re.escape(string.punctuation), '', preprocessed)\n",
    "    preprocessed = re.sub('\\w*\\d\\w*','', preprocessed)\n",
    "        \n",
    "    return [preprocessed]\n",
    "\n",
    "def get_prediction(raw_text):\n",
    "    try:\n",
    "        preprocessed_text = preprocess_text(raw_text)\n",
    "        probas = model.predict_proba(vectorizer.transform(preprocessed_text))\n",
    "        classes = model.classes_\n",
    "        first_pred = classes[probas.argmax()]\n",
    "        second_pred = classes[np.argsort(probas)[:, 10]][0]\n",
    "        return first_pred, second_pred\n",
    "    except:\n",
    "        pass\n",
    "    \n",
    "\n",
    "bali_wordcloud = './assets/bali_wordcloud.png'\n",
    "barcelona_wordcloud = './assets/barcelona_wordcloud.png'\n",
    "crete_wordcloud = './assets/crete_wordcloud.png'\n",
    "dubai_wordcloud = './assets/dubai_wordcloud.png'\n",
    "goa_wordcloud = './assets/goa_wordcloud.png'\n",
    "istan_wordcloud = './assets/istanbul_wordcloud.png'\n",
    "london_wordcloud = './assets/london_wordcloud.png'\n",
    "majorca_wordcloud = './assets/majorca_wordcloud.png'\n",
    "paris_wordcloud = './assets/paris_wordcloud.png'\n",
    "phuket_wordcloud = './assets/phuket_wordcloud.png'\n",
    "rome_wordcloud = './assets/rome_wordcloud.png'\n",
    "sicily_wordcloud = './assets/sicily_wordcloud.png'\n",
    "    \n",
    "# The app layout\n",
    "app.layout = html.Div(children=[\n",
    "    html.H1(children='The Destination Dictionary?',\n",
    "            style={'textAlign':'center', 'margin-top':'5%'}),\n",
    "\n",
    "    html.H4(children='Not sure where to travel? Use this machine learning algorithm to find your perfect destination in just a few words.',\n",
    "            style={'textAlign': 'center'}),\n",
    "    \n",
    "    html.Br(),\n",
    "    \n",
    "    html.Div([\"What activities do you want to do on vacation?  \",\n",
    "              dcc.Input(id='my-input', value='', type='text',\n",
    "                        placeholder= 'ex. I want to go to the beach',\n",
    "                        style={'width':'65%'})]),\n",
    "    html.Hr(),\n",
    "    \n",
    "    html.H5(children='You should travel to:',\n",
    "            style={'textAlign': 'center'}),\n",
    "    \n",
    "    html.H4(id='my-output', style={'textAlign': 'center'}),\n",
    "    \n",
    "    html.Br(),\n",
    "    \n",
    "    html.Img(id='image', style={'width':'75%', 'margin-bottom':'5%',\n",
    "                                'margin-left':'10%', 'margin-right':'10%'}),\n",
    "    \n",
    "    html.Hr(),\n",
    "\n",
    "    html.H5(children='Methodology',\n",
    "            style={'margin-left':'10%', 'margin-right':'10%'}),\n",
    "    \n",
    "    html.Div(children=\"This machine learning algorithm is predicts your perfect destination based on natural language processing and learning from over 28,000 text data points indicating attractions to do in 12 different cities from TripAdvisor's list of Traveler's Choice destinations for Popular World Destinations 2020.\",\n",
    "             style={'margin-left':'10%', 'margin-right':'10%'}),\n",
    "    \n",
    "    html.Br(),\n",
    "    \n",
    "    html.Div(children='Created by: Tia Plagata | tiaplagata@gmail.com',\n",
    "             style={'margin-left':'10%', 'margin-right':'10%'}), \n",
    "])\n",
    "    \n",
    "\n",
    "@app.callback(\n",
    "    Output(component_id='my-output', component_property='children'),\n",
    "    Input(component_id='my-input', component_property='value'))\n",
    "def update_output_div(input_value):\n",
    "    first_pred, second_pred = get_prediction(input_value)        \n",
    "    return first_pred\n",
    "\n",
    "\n",
    "@app.callback(\n",
    "    Output(component_id='image', component_property='src'),\n",
    "    Input('my-output', 'children'))\n",
    "def update_image(city):\n",
    "    if city == 'Rome, Italy':\n",
    "        city_img = rome_wordcloud\n",
    "    elif city == 'Crete, Greece':\n",
    "        city_img = crete_wordcloud\n",
    "    elif city == 'Paris, France':\n",
    "        city_img = paris_wordcloud\n",
    "    elif city == 'Bali, Indonesia':\n",
    "        city_img = bali_wordcloud\n",
    "    elif city == 'Majorca, Balearic Islands':\n",
    "        city_img = majorca_wordcloud\n",
    "    elif city == 'Phuket, Thailand':\n",
    "        city_img = phuket_wordcloud\n",
    "    elif city == 'Barcelona, Spain':\n",
    "        city_img = barcelona_wordcloud\n",
    "    elif city == 'Dubai, United Arab Emirates':\n",
    "        city_img = dubai_wordcloud\n",
    "    elif city == 'Sicily, Italy':\n",
    "        city_img = sicily_wordcloud\n",
    "    elif city == 'Goa, India':\n",
    "        city_img = goa_wordcloud\n",
    "    elif city == 'Istanbul, Turkey':\n",
    "        city_img = istan_wordcloud\n",
    "    else:\n",
    "        city_img = london_wordcloud\n",
    "    return city_img\n",
    "\n",
    "\n",
    "# Run app and display result inline in the notebook\n",
    "# app.run_server(mode='inline')\n",
    "if __name__ == '__main__':\n",
    "    app.run_server(mode='inline', host='localhost')"
   ]
  },
  {
   "cell_type": "code",
   "execution_count": 3,
   "metadata": {
    "ExecuteTime": {
     "end_time": "2021-01-21T22:33:57.932016Z",
     "start_time": "2021-01-21T22:33:57.922919Z"
    }
   },
   "outputs": [],
   "source": [
    "first_pred, second_pred = get_prediction('I want to visit art galleries')"
   ]
  },
  {
   "cell_type": "code",
   "execution_count": 4,
   "metadata": {
    "ExecuteTime": {
     "end_time": "2021-01-21T22:33:58.152561Z",
     "start_time": "2021-01-21T22:33:58.141960Z"
    }
   },
   "outputs": [
    {
     "data": {
      "text/plain": [
       "'London, United Kingdom'"
      ]
     },
     "execution_count": 4,
     "metadata": {},
     "output_type": "execute_result"
    }
   ],
   "source": [
    "second_pred"
   ]
  },
  {
   "cell_type": "code",
   "execution_count": null,
   "metadata": {},
   "outputs": [],
   "source": []
  }
 ],
 "metadata": {
  "kernelspec": {
   "display_name": "learn-env",
   "language": "python",
   "name": "learn-env"
  },
  "language_info": {
   "codemirror_mode": {
    "name": "ipython",
    "version": 3
   },
   "file_extension": ".py",
   "mimetype": "text/x-python",
   "name": "python",
   "nbconvert_exporter": "python",
   "pygments_lexer": "ipython3",
   "version": "3.8.5"
  },
  "toc": {
   "base_numbering": 1,
   "nav_menu": {},
   "number_sections": true,
   "sideBar": true,
   "skip_h1_title": false,
   "title_cell": "Table of Contents",
   "title_sidebar": "Contents",
   "toc_cell": false,
   "toc_position": {},
   "toc_section_display": true,
   "toc_window_display": false
  }
 },
 "nbformat": 4,
 "nbformat_minor": 4
}
