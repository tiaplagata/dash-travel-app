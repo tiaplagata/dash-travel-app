{
 "cells": [
  {
   "cell_type": "code",
   "execution_count": 1,
   "metadata": {
    "ExecuteTime": {
     "end_time": "2021-01-13T20:26:09.332029Z",
     "start_time": "2021-01-13T20:26:08.502080Z"
    }
   },
   "outputs": [],
   "source": [
    "# Import required libraries\n",
    "import os\n",
    "from random import randint\n",
    "\n",
    "import flask\n",
    "import dash\n",
    "import dash_core_components as dcc\n",
    "import dash_html_components as html\n",
    "from dash.dependencies import Input, Output\n",
    "\n",
    "import plotly.express as px\n",
    "import plotly.graph_objects as go\n",
    "import plotly.io as pio\n",
    "\n",
    "import pandas as pd\n",
    "\n",
    "from jupyter_dash import JupyterDash\n",
    "import ipywidgets"
   ]
  },
  {
   "cell_type": "code",
   "execution_count": 37,
   "metadata": {
    "ExecuteTime": {
     "end_time": "2021-01-13T21:06:45.226242Z",
     "start_time": "2021-01-13T21:06:44.824264Z"
    },
    "scrolled": false
   },
   "outputs": [
    {
     "data": {
      "text/html": [
       "\n",
       "        <iframe\n",
       "            width=\"100%\"\n",
       "            height=\"650\"\n",
       "            src=\"http://localhost:8050/\"\n",
       "            frameborder=\"0\"\n",
       "            allowfullscreen\n",
       "        ></iframe>\n",
       "        "
      ],
      "text/plain": [
       "<IPython.lib.display.IFrame at 0x7ff1fbd25220>"
      ]
     },
     "metadata": {},
     "output_type": "display_data"
    }
   ],
   "source": [
    "# Setup the app\n",
    "# Make sure not to change this file name or the variable names below,\n",
    "# the template is configured to execute 'server' on 'app.py'\n",
    "\n",
    "# server = flask.Flask(__name__)\n",
    "# server.secret_key = os.environ.get('secret_key', str(randint(0, 1000000)))\n",
    "\n",
    "app = JupyterDash('First App')\n",
    "\n",
    "# Put your Dash code here\n",
    "\n",
    "\n",
    "app.layout = html.Div(children=[\n",
    "    html.H1(children='Where should I travel?'),\n",
    "    \n",
    "    html.H2(children='What do you want to do while on vacation?'),\n",
    "\n",
    "    dcc.Input(id='input_bar',value=None,\n",
    "              placeholder=' ex. I want to go snorkeling and do yoga on the beach',\n",
    "              style={'width': '80%', 'height': 45,}),\n",
    "    \n",
    "    html.Button('Tell me where to go!', id='submit_button', style={'height': 45})\n",
    "\n",
    "])\n",
    "\n",
    "# Run app and display result inline in the notebook\n",
    "# app.run_server(mode='inline')\n",
    "app.run_server(mode='inline', host='localhost')"
   ]
  },
  {
   "cell_type": "code",
   "execution_count": null,
   "metadata": {},
   "outputs": [],
   "source": []
  }
 ],
 "metadata": {
  "kernelspec": {
   "display_name": "learn-env",
   "language": "python",
   "name": "learn-env"
  },
  "language_info": {
   "codemirror_mode": {
    "name": "ipython",
    "version": 3
   },
   "file_extension": ".py",
   "mimetype": "text/x-python",
   "name": "python",
   "nbconvert_exporter": "python",
   "pygments_lexer": "ipython3",
   "version": "3.8.5"
  },
  "toc": {
   "base_numbering": 1,
   "nav_menu": {},
   "number_sections": true,
   "sideBar": true,
   "skip_h1_title": false,
   "title_cell": "Table of Contents",
   "title_sidebar": "Contents",
   "toc_cell": false,
   "toc_position": {},
   "toc_section_display": true,
   "toc_window_display": false
  }
 },
 "nbformat": 4,
 "nbformat_minor": 4
}
